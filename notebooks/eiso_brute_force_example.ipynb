{
 "cells": [
  {
   "cell_type": "code",
   "execution_count": 2,
   "id": "c20c7aa7-5832-4f2d-b9a9-413146314ee3",
   "metadata": {},
   "outputs": [
    {
     "name": "stdout",
     "output_type": "stream",
     "text": [
      "The autoreload extension is already loaded. To reload it, use:\n",
      "  %reload_ext autoreload\n"
     ]
    }
   ],
   "source": [
    "%reset -f\n",
    "%load_ext autoreload\n",
    "%autoreload 2\n",
    "\n",
    "import sys\n",
    "import os\n",
    "\n",
    "sys.path.append(os.path.join(os.path.pardir, 'code'))\n",
    "\n",
    "import numpy as np\n",
    "import pandas as pd\n",
    "import matplotlib.pyplot as plt\n",
    "\n",
    "from eiso_brute import eiso_brute"
   ]
  },
  {
   "cell_type": "markdown",
   "id": "1befc418-83b2-4a77-83d5-0055a8f86c64",
   "metadata": {},
   "source": [
    "### Observability matrix"
   ]
  },
  {
   "cell_type": "code",
   "execution_count": 3,
   "id": "5510d733-7aec-494a-b359-d518074d7d2c",
   "metadata": {},
   "outputs": [
    {
     "data": {
      "text/html": [
       "<div>\n",
       "<style scoped>\n",
       "    .dataframe tbody tr th:only-of-type {\n",
       "        vertical-align: middle;\n",
       "    }\n",
       "\n",
       "    .dataframe tbody tr th {\n",
       "        vertical-align: top;\n",
       "    }\n",
       "\n",
       "    .dataframe thead th {\n",
       "        text-align: right;\n",
       "    }\n",
       "</style>\n",
       "<table border=\"1\" class=\"dataframe\">\n",
       "  <thead>\n",
       "    <tr style=\"text-align: right;\">\n",
       "      <th></th>\n",
       "      <th>0</th>\n",
       "      <th>1</th>\n",
       "      <th>2</th>\n",
       "      <th>3</th>\n",
       "    </tr>\n",
       "  </thead>\n",
       "  <tbody>\n",
       "    <tr>\n",
       "      <th>0</th>\n",
       "      <td>1.0</td>\n",
       "      <td>0.0</td>\n",
       "      <td>0.00000</td>\n",
       "      <td>0.0</td>\n",
       "    </tr>\n",
       "    <tr>\n",
       "      <th>1</th>\n",
       "      <td>1.0</td>\n",
       "      <td>1.0</td>\n",
       "      <td>1.00000</td>\n",
       "      <td>0.0</td>\n",
       "    </tr>\n",
       "    <tr>\n",
       "      <th>2</th>\n",
       "      <td>0.0</td>\n",
       "      <td>0.0</td>\n",
       "      <td>0.00001</td>\n",
       "      <td>0.0</td>\n",
       "    </tr>\n",
       "    <tr>\n",
       "      <th>3</th>\n",
       "      <td>1.0</td>\n",
       "      <td>1.0</td>\n",
       "      <td>1.00000</td>\n",
       "      <td>1.0</td>\n",
       "    </tr>\n",
       "    <tr>\n",
       "      <th>4</th>\n",
       "      <td>1.0</td>\n",
       "      <td>1.0</td>\n",
       "      <td>1.00000</td>\n",
       "      <td>1.0</td>\n",
       "    </tr>\n",
       "  </tbody>\n",
       "</table>\n",
       "</div>"
      ],
      "text/plain": [
       "     0    1        2    3\n",
       "0  1.0  0.0  0.00000  0.0\n",
       "1  1.0  1.0  1.00000  0.0\n",
       "2  0.0  0.0  0.00001  0.0\n",
       "3  1.0  1.0  1.00000  1.0\n",
       "4  1.0  1.0  1.00000  1.0"
      ]
     },
     "execution_count": 3,
     "metadata": {},
     "output_type": "execute_result"
    }
   ],
   "source": [
    "O = np.array([[1.0, 0.0, 0.0, 0.0],\n",
    "              [1.0, 1.0, 1.0, 0.0],\n",
    "              [0.0, 0.0, 1e-5, 0.0],\n",
    "              [1.0, 1.0, 1.0, 1.0],\n",
    "              [1.0, 1.0, 1.0, 1.0]])\n",
    "\n",
    "pd.DataFrame(O)"
   ]
  },
  {
   "cell_type": "markdown",
   "id": "f1d031eb-0038-497a-850b-7f8d212fe908",
   "metadata": {},
   "source": [
    "### State to reconstruct"
   ]
  },
  {
   "cell_type": "code",
   "execution_count": 4,
   "id": "b5631eb8-990d-48f4-ac1a-3f2f050e3698",
   "metadata": {},
   "outputs": [],
   "source": [
    "ej = 1"
   ]
  },
  {
   "cell_type": "markdown",
   "id": "3b8d1d10-7260-44e5-b530-7d14ae984392",
   "metadata": {},
   "source": [
    "### Run brute force EISO"
   ]
  },
  {
   "cell_type": "code",
   "execution_count": 5,
   "id": "4c28b76f-60df-4cb5-97fc-8f2077b0dc43",
   "metadata": {},
   "outputs": [
    {
     "name": "stdout",
     "output_type": "stream",
     "text": [
      "Total combinations: 31\n"
     ]
    }
   ],
   "source": [
    "CN_min, O_min, row_min, CN, rows = eiso_brute(O, ej=ej, beta=1e-9, show_n_comb=True)"
   ]
  },
  {
   "cell_type": "code",
   "execution_count": 6,
   "id": "a4ce630c-9aa9-4b83-849a-ee7d80d2099d",
   "metadata": {},
   "outputs": [
    {
     "name": "stdout",
     "output_type": "stream",
     "text": [
      "Min condition #: 261312.5929827648\n"
     ]
    }
   ],
   "source": [
    "print('Min condition #:', CN_min)"
   ]
  },
  {
   "cell_type": "code",
   "execution_count": 7,
   "id": "143df117-2fdd-41dc-a907-c58c015ac1c7",
   "metadata": {},
   "outputs": [
    {
     "name": "stdout",
     "output_type": "stream",
     "text": [
      "Min subset: [0 1 2]\n"
     ]
    },
    {
     "data": {
      "text/html": [
       "<div>\n",
       "<style scoped>\n",
       "    .dataframe tbody tr th:only-of-type {\n",
       "        vertical-align: middle;\n",
       "    }\n",
       "\n",
       "    .dataframe tbody tr th {\n",
       "        vertical-align: top;\n",
       "    }\n",
       "\n",
       "    .dataframe thead th {\n",
       "        text-align: right;\n",
       "    }\n",
       "</style>\n",
       "<table border=\"1\" class=\"dataframe\">\n",
       "  <thead>\n",
       "    <tr style=\"text-align: right;\">\n",
       "      <th></th>\n",
       "      <th>0</th>\n",
       "      <th>1</th>\n",
       "      <th>2</th>\n",
       "      <th>3</th>\n",
       "    </tr>\n",
       "  </thead>\n",
       "  <tbody>\n",
       "    <tr>\n",
       "      <th>0</th>\n",
       "      <td>1.0</td>\n",
       "      <td>0.0</td>\n",
       "      <td>0.00000</td>\n",
       "      <td>0.0</td>\n",
       "    </tr>\n",
       "    <tr>\n",
       "      <th>1</th>\n",
       "      <td>1.0</td>\n",
       "      <td>1.0</td>\n",
       "      <td>1.00000</td>\n",
       "      <td>0.0</td>\n",
       "    </tr>\n",
       "    <tr>\n",
       "      <th>2</th>\n",
       "      <td>0.0</td>\n",
       "      <td>0.0</td>\n",
       "      <td>0.00001</td>\n",
       "      <td>0.0</td>\n",
       "    </tr>\n",
       "  </tbody>\n",
       "</table>\n",
       "</div>"
      ],
      "text/plain": [
       "     0    1        2    3\n",
       "0  1.0  0.0  0.00000  0.0\n",
       "1  1.0  1.0  1.00000  0.0\n",
       "2  0.0  0.0  0.00001  0.0"
      ]
     },
     "execution_count": 7,
     "metadata": {},
     "output_type": "execute_result"
    }
   ],
   "source": [
    "print('Min subset:', row_min)\n",
    "pd.DataFrame(O_min)"
   ]
  },
  {
   "cell_type": "code",
   "execution_count": null,
   "id": "02ffad11-7101-4750-9822-537f8cfaec67",
   "metadata": {},
   "outputs": [],
   "source": []
  }
 ],
 "metadata": {
  "kernelspec": {
   "display_name": "Python 3 (ipykernel)",
   "language": "python",
   "name": "python3"
  },
  "language_info": {
   "codemirror_mode": {
    "name": "ipython",
    "version": 3
   },
   "file_extension": ".py",
   "mimetype": "text/x-python",
   "name": "python",
   "nbconvert_exporter": "python",
   "pygments_lexer": "ipython3",
   "version": "3.9.12"
  }
 },
 "nbformat": 4,
 "nbformat_minor": 5
}
