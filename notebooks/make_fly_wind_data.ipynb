{
 "cells": [
  {
   "cell_type": "code",
   "execution_count": 1,
   "id": "f99483a7-928e-43e8-b402-1fab51757fec",
   "metadata": {},
   "outputs": [],
   "source": [
    "%reset -f\n",
    "%load_ext autoreload\n",
    "%autoreload 2\n",
    "\n",
    "import sys\n",
    "import os\n",
    "\n",
    "sys.path.append(os.path.join(os.path.pardir, 'code'))\n",
    "figdir = os.path.join(os.path.pardir, 'figures')\n",
    "savedir = os.path.join(os.path.pardir, 'simulation_data')\n",
    "\n",
    "import numpy as np\n",
    "import numpy.matlib\n",
    "import scipy\n",
    "import pandas as pd\n",
    "import matplotlib.pyplot as plt\n",
    "from matplotlib import cm\n",
    "from matplotlib.colors import ListedColormap\n",
    "import itertools\n",
    "import control\n",
    "import pickle\n",
    "import figurefirst as fifi\n",
    "\n",
    "import figure_functions as ff\n",
    "from fly_wind_simple import FlyWindSimpleCal\n",
    "from simulator import LinearSystemSimulator\n",
    "from observability import ObservabilityMatrix\n",
    "from eiso import optimize_matrix_rows_to_state, optimize_matrix_rows_to_states, optimize_matrix_rows_to_states_iterative\n",
    "from eiso import analytical_observability_gramian, calculate_condition_number, rank_test"
   ]
  },
  {
   "cell_type": "code",
   "execution_count": 8,
   "id": "b744dfb8-bc57-4c5e-be6e-beb40a42c33c",
   "metadata": {},
   "outputs": [
    {
     "data": {
      "text/plain": [
       "0.001"
      ]
     },
     "execution_count": 8,
     "metadata": {},
     "output_type": "execute_result"
    }
   ],
   "source": [
    "1e-3"
   ]
  },
  {
   "cell_type": "code",
   "execution_count": 12,
   "id": "02ef87fc-597b-40fe-a9d5-d291473e78d9",
   "metadata": {},
   "outputs": [
    {
     "data": {
      "text/plain": [
       "0.001"
      ]
     },
     "execution_count": 12,
     "metadata": {},
     "output_type": "execute_result"
    }
   ],
   "source": [
    "10**(-3)"
   ]
  },
  {
   "cell_type": "markdown",
   "id": "c36fb7b2-3a8b-447d-925a-a2ac52a98e44",
   "metadata": {
    "tags": []
   },
   "source": [
    "### Define system simulator object"
   ]
  },
  {
   "cell_type": "code",
   "execution_count": 2,
   "id": "aac41eb5-e44d-48f1-9eff-a2959067a84b",
   "metadata": {},
   "outputs": [],
   "source": [
    "sys = FlyWindSimpleCal()"
   ]
  },
  {
   "cell_type": "markdown",
   "id": "f40a977e-e967-4652-8d93-9e34b0d76ae5",
   "metadata": {},
   "source": [
    "### Set simulation settings"
   ]
  },
  {
   "cell_type": "code",
   "execution_count": 3,
   "id": "5d193469-8b14-4afd-b03c-aa0f23b7b1df",
   "metadata": {},
   "outputs": [],
   "source": [
    "saveflag = True\n",
    "control_type = 'phi_v' # 'none', 'phi', 'v', or 'phi_v'\n",
    "\n",
    "alpha = 1e-6\n",
    "beta = 1e-3\n",
    "sigma = 1e-8\n",
    "norm = None\n",
    "square=False\n",
    "\n",
    "# sys.set_output_mode(['phi', 'gamma'])\n",
    "sys.set_output_mode(['phi', 'gamma', 'of'])"
   ]
  },
  {
   "cell_type": "markdown",
   "id": "3fdb244f-f701-49cb-9406-447f088a6e59",
   "metadata": {},
   "source": [
    "### Simulate"
   ]
  },
  {
   "cell_type": "code",
   "execution_count": 4,
   "id": "c2e7cb5d-1ccc-48c2-acaa-c6b7ad06fb71",
   "metadata": {},
   "outputs": [
    {
     "name": "stdout",
     "output_type": "stream",
     "text": [
      "[ 2.         11.          7.          2.35619449  0.        ]\n"
     ]
    }
   ],
   "source": [
    "# Set time & input(s)\n",
    "T = 5 # total time [s]\n",
    "fs = 10 # sampling rate [hz]\n",
    "ts = 1 / fs # time step [s]\n",
    "\n",
    "# Simulation time\n",
    "tsim = np.arange(0, T + ts, ts).T\n",
    "n_point = tsim.shape[0]\n",
    "tindex = np.arange(1, n_point + 1, 1)\n",
    "\n",
    "# Simulation input\n",
    "usim = 0 * np.ones((len(tsim), 2))\n",
    "if control_type == 'v':\n",
    "    v0 = 11\n",
    "    phi0 = np.pi/4\n",
    "    usim[3*fs:4*fs, 0] = 7\n",
    "    \n",
    "elif control_type == 'phi':\n",
    "    v0 = 11\n",
    "    phi0 = np.pi/4\n",
    "    usim[1*fs:2*fs, 1] = np.pi/2\n",
    "    usim[3*fs:4*fs, 1] = -np.pi/2\n",
    "    \n",
    "elif control_type == 'phi_v':\n",
    "    v0 = 11\n",
    "    phi0 = (np.pi/2) + np.pi/4\n",
    "    usim[2*fs:3*fs, 1] = -np.pi/2\n",
    "    usim[4*fs:5*fs, 0] = 10\n",
    "    \n",
    "elif control_type == 'none':\n",
    "    phi0 = np.pi/4\n",
    "    v0 = 11\n",
    "\n",
    "# Initial conditions\n",
    "d0 = 2\n",
    "w0 = 7\n",
    "zeta0 = 0\n",
    "\n",
    "x0 = np.array([d0, v0, w0, phi0, zeta0])\n",
    "print(x0)\n",
    "\n",
    "# Simulate\n",
    "sim_data, _ = sys.simulate(x0, tsim, usim)\n",
    "\n",
    "# Get sizes\n",
    "n_state = sys.n\n",
    "n_output = sys.p"
   ]
  },
  {
   "cell_type": "markdown",
   "id": "d7d1435c-a08f-4b9d-8edc-2cf28d621b9f",
   "metadata": {},
   "source": [
    "### Plot trajectory"
   ]
  },
  {
   "cell_type": "code",
   "execution_count": 5,
   "id": "a077209c-0771-485f-834e-0ac65dbf4777",
   "metadata": {},
   "outputs": [
    {
     "data": {
      "image/png": "[encoded data removed]",
      "text/plain": [
       "<Figure size 700x700 with 1 Axes>"
      ]
     },
     "metadata": {},
     "output_type": "display_data"
    }
   ],
   "source": [
    "fig, ax = plt.subplots(1, 1, figsize=(7*1, 7*1), dpi=100)\n",
    "cmap = 'bone_r'\n",
    "\n",
    "xpos = sim_data['pos_x']\n",
    "ypos = sim_data['pos_y']\n",
    "phi = sim_data['phi']\n",
    "\n",
    "size_radius = 3*0.05*np.mean(np.abs(np.hstack((xpos, ypos))))\n",
    "ff.plot_trajectory(xpos,\n",
    "                   ypos,\n",
    "                   phi,\n",
    "                   color=tsim,\n",
    "                   ax=ax,\n",
    "                   nskip=1,\n",
    "                   size_radius=size_radius,\n",
    "                   colormap=cmap)\n",
    "\n",
    "fifi.mpl_functions.adjust_spines(ax, [])"
   ]
  },
  {
   "cell_type": "markdown",
   "id": "eea49b58-cd92-4e99-8acd-58563bdd072c",
   "metadata": {
    "tags": []
   },
   "source": [
    "### Evaluate observability in sliding windows"
   ]
  },
  {
   "cell_type": "code",
   "execution_count": 6,
   "id": "da1a3caa-90cf-4330-9532-02adf3cf3380",
   "metadata": {},
   "outputs": [
    {
     "name": "stdout",
     "output_type": "stream",
     "text": [
      "48 windows\n"
     ]
    }
   ],
   "source": [
    "# Set system & the nominal state trajectory to calculate empirical Observability Matrix (Oe)\n",
    "Obsv = ObservabilityMatrix(sys, sim_data['time'], sim_data['x'], sim_data['u'])\n",
    "\n",
    "time_resolution = 0.1 # sliding the window resolution\n",
    "simulation_time = 0.3 # simulation time to compute empirical O at each point\n",
    "Oe_sliding, O_time, deltay_all = Obsv.sliding_O(time_resolution=time_resolution,\n",
    "                                                simulation_time=simulation_time,\n",
    "                                                eps=0.001)\n",
    "n_window = len(Oe_sliding)\n",
    "print(str(n_window) + ' windows')"
   ]
  },
  {
   "cell_type": "markdown",
   "id": "92270b12-8a4c-4492-952f-2eaf81afb17c",
   "metadata": {},
   "source": [
    "### Run E-ISO for each sliding window"
   ]
  },
  {
   "cell_type": "code",
   "execution_count": 7,
   "id": "4c972cb0-5f30-4615-af2b-6dba2aa90516",
   "metadata": {},
   "outputs": [
    {
     "name": "stdout",
     "output_type": "stream",
     "text": [
      "0, 1, 2, 3, 4, 5, 6, 7, 8, 9, 10, 11, 12, 13, 14, 15, 16, 17, 18, 19, 20, 21, 22, 23, 24, 25, 26, 27, 28, 29, 30, 31, 32, 33, 34, 35, 36, 37, 38, 39, 40, 41, 42, 43, 44, 45, 46, 47, Done\n"
     ]
    }
   ],
   "source": [
    "observability_error_over_time = np.nan * np.zeros((n_window, n_state))\n",
    "CN_iter_over_time = np.nan * np.zeros((n_window, n_state))\n",
    "\n",
    "states_of_interest = np.arange(0, n_state, 1)\n",
    "for w in range(n_window):\n",
    "    print(w, end=', ')\n",
    "    for s in states_of_interest:       \n",
    "        out = optimize_matrix_rows_to_state(Oe_sliding[w],\n",
    "                                            state=s,\n",
    "                                            alpha=alpha,\n",
    "                                            beta=beta,\n",
    "                                            square=square,\n",
    "                                            sigma=sigma,\n",
    "                                            include_constraints=False,\n",
    "                                            norm=norm)\n",
    "        \n",
    "        observability_error_over_time[w, s] = out['En']\n",
    "        \n",
    "        out = optimize_matrix_rows_to_states_iterative(Oe_sliding[w],\n",
    "                                                       states=[s],\n",
    "                                                       alpha=alpha,\n",
    "                                                       beta=beta,\n",
    "                                                       sigma=sigma,\n",
    "                                                       square=square,\n",
    "                                                       include_constraints=False,\n",
    "                                                       norm=norm)\n",
    "        \n",
    "        CN_iter_over_time[w, s] = out['CN_min']\n",
    "            \n",
    "print('Done')"
   ]
  },
  {
   "cell_type": "code",
   "execution_count": 8,
   "id": "5d541423-bf4d-4e2e-b499-a4e0b2665c28",
   "metadata": {},
   "outputs": [],
   "source": [
    "O_index = O_time * np.array(fs)\n",
    "O_value = np.zeros_like(CN_iter_over_time)\n",
    "for w in range(n_window):\n",
    "    for s in range(n_state):\n",
    "        O_value[w, s] = sim_data['x'][int(O_index[w]), s]"
   ]
  },
  {
   "cell_type": "markdown",
   "id": "1c94b14b-d7ab-408a-9a30-659c4eab2e59",
   "metadata": {},
   "source": [
    "### Plot trajectory for each state, where color indicates observability"
   ]
  },
  {
   "cell_type": "code",
   "execution_count": 9,
   "id": "5702e816-3124-409c-86b3-bac874c8bb74",
   "metadata": {},
   "outputs": [],
   "source": [
    "# State labels\n",
    "sys.state_names\n",
    "state_labels = [r'$d$', r'$g$', r'$w$', r'$\\phi$', r'$\\zeta$']"
   ]
  },
  {
   "cell_type": "code",
   "execution_count": 10,
   "id": "518f1388-d092-4a3a-b1b1-d46f8c681b9b",
   "metadata": {},
   "outputs": [],
   "source": [
    "# Colormap\n",
    "crange = 0.8\n",
    "cmap = cm.get_cmap('RdPu_r')\n",
    "cmap = cmap(np.linspace(0, crange, 100))\n",
    "cmap = ListedColormap(cmap)\n",
    "\n",
    "cmapr = cm.get_cmap('RdPu')\n",
    "cmapr = cmapr(np.linspace(1-crange, 1, 100))\n",
    "cmapr = ListedColormap(cmapr)"
   ]
  },
  {
   "cell_type": "code",
   "execution_count": 11,
   "id": "665a7b5b-4d11-42ed-aebb-3a2dae6aad73",
   "metadata": {},
   "outputs": [
    {
     "data": {
      "image/png": "[encoded data removed]",
      "text/plain": [
       "<Figure size 700x700 with 2 Axes>"
      ]
     },
     "metadata": {
      "needs_background": "light"
     },
     "output_type": "display_data"
    }
   ],
   "source": [
    "fig, ax = plt.subplots(1, 1, figsize=(7*1, 7*1), dpi=100)\n",
    "\n",
    "xpos = sim_data['pos_x']\n",
    "ypos = sim_data['pos_y']\n",
    "theta = sim_data['phi']\n",
    "\n",
    "xoff = 5\n",
    "yoff = 0\n",
    "\n",
    "cvar = CN_iter_over_time.copy()\n",
    "cvar = np.nan_to_num(cvar, nan=1.1*np.nanmax(cvar))\n",
    "cnorm = (np.min(cvar), np.max(cvar))\n",
    "for n in range(n_state):\n",
    "    cvar_state = scipy.interpolate.griddata(O_time, cvar[:,n], sim_data['time'], method='nearest')\n",
    "    \n",
    "    arrow_size_res = 1\n",
    "    size_radius = arrow_size_res*0.17*np.mean(np.abs(np.hstack((xpos, ypos))))\n",
    "    xinit = xpos + xoff*n\n",
    "    yinit = ypos + yoff*n\n",
    "    ff.plot_trajectory(xinit,\n",
    "                       yinit,\n",
    "                       theta,\n",
    "                       color=cvar_state,\n",
    "                       ax=ax,\n",
    "                       size_radius=size_radius,\n",
    "                       nskip=1,\n",
    "                       colormap=cmap,\n",
    "                       colornorm=cnorm)\n",
    "    \n",
    "    ax.text(xinit[0] - 4, yinit[0] - 6, state_labels[n], fontsize=14)\n",
    "\n",
    "ax.set_xlim((np.min(xpos - xoff), np.max(xpos + xoff*n_state)))\n",
    "# ax.set_ylim((np.min(ypos - yoff), 1.1*np.max(ypos + yoff*n_state)))\n",
    "\n",
    "fig.colorbar(cm.ScalarMappable(cmap=cmapr), ax=ax, fraction=0.03)\n",
    "\n",
    "fifi.mpl_functions.adjust_spines(ax, [])"
   ]
  },
  {
   "cell_type": "markdown",
   "id": "aa7aaa3f-f8bd-4bd1-8750-257dd094ca48",
   "metadata": {},
   "source": [
    "### Save data"
   ]
  },
  {
   "cell_type": "code",
   "execution_count": 12,
   "id": "872c7acd-c2d6-4e0e-940f-cadcdff556ca",
   "metadata": {},
   "outputs": [
    {
     "name": "stdout",
     "output_type": "stream",
     "text": [
      "dict_keys(['sim_data', 'alpha', 'beta', 'norm', 'sliding_simulation_time', 'Oe_sliding', 'Oe_sliding_index', 'Oe_sliding_time', 'Oe_sliding_value', 'CN_iter_over_time', 'observability_error_over_time'])\n"
     ]
    }
   ],
   "source": [
    "if saveflag:\n",
    "    if control_type=='v':\n",
    "        savename = 'control_v_output'\n",
    "    elif control_type=='phi':\n",
    "        savename = 'control_phi_output'\n",
    "    elif control_type=='phi_v':\n",
    "        savename = 'control_phi_v_output'\n",
    "    elif control_type=='none':\n",
    "        savename = 'control_none_output'\n",
    "        \n",
    "    savename = savename + '_' + '_'.join(sys.output_names) + '.pk'\n",
    "    \n",
    "    savepath = os.path.join(savedir, savename)\n",
    "\n",
    "    savedata = {'sim_data': sim_data,\n",
    "                'alpha': alpha,\n",
    "                'beta': beta,\n",
    "                'norm': norm,\n",
    "                'sliding_simulation_time': simulation_time,\n",
    "                'Oe_sliding': Oe_sliding,\n",
    "                'Oe_sliding_index': O_index,\n",
    "                'Oe_sliding_time': O_time,\n",
    "                'Oe_sliding_value': O_value,\n",
    "                'CN_iter_over_time': CN_iter_over_time,\n",
    "                'observability_error_over_time': observability_error_over_time}\n",
    "\n",
    "    with open(savepath, 'wb') as fp:\n",
    "        pickle.dump(savedata, fp)\n",
    "\n",
    "    with open(savepath, 'rb') as fp:\n",
    "        data = pickle.load(fp)\n",
    "\n",
    "    print(data.keys())"
   ]
  },
  {
   "cell_type": "code",
   "execution_count": null,
   "id": "b55fd6c8-4316-4249-bd4a-5f55eac657ac",
   "metadata": {},
   "outputs": [],
   "source": []
  }
 ],
 "metadata": {
  "kernelspec": {
   "display_name": "Python 3 (ipykernel)",
   "language": "python",
   "name": "python3"
  },
  "language_info": {
   "codemirror_mode": {
    "name": "ipython",
    "version": 3
   },
   "file_extension": ".py",
   "mimetype": "text/x-python",
   "name": "python",
   "nbconvert_exporter": "python",
   "pygments_lexer": "ipython3",
   "version": "3.9.12"
  }
 },
 "nbformat": 4,
 "nbformat_minor": 5
}
