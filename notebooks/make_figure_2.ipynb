{
 "cells": [
  {
   "cell_type": "code",
   "execution_count": 1,
   "id": "f99483a7-928e-43e8-b402-1fab51757fec",
   "metadata": {},
   "outputs": [],
   "source": [
    "%reset -f\n",
    "%load_ext autoreload\n",
    "%autoreload 2\n",
    "\n",
    "import sys\n",
    "import os\n",
    "\n",
    "sys.path.append(os.path.join(os.path.pardir, 'code'))\n",
    "figdir = os.path.join(os.path.pardir, 'figures')\n",
    "\n",
    "import numpy as np\n",
    "import numpy.matlib\n",
    "import scipy\n",
    "import pandas as pd\n",
    "import matplotlib.pyplot as plt\n",
    "from matplotlib import cm\n",
    "import itertools\n",
    "import control\n",
    "import figurefirst as fifi\n",
    "\n",
    "import figure_functions as ff\n",
    "from simulator import LinearSystemSimulator\n",
    "from observability import ObservabilityMatrix\n",
    "from eiso import optimize_matrix_rows_to_state, optimize_matrix_rows_to_states, optimize_matrix_rows_to_states_iterative\n",
    "from eiso import analytical_observability_gramian, calculate_condition_number, rank_test"
   ]
  },
  {
   "cell_type": "markdown",
   "id": "59b8779b-b740-4f76-be2b-a9570831a75c",
   "metadata": {},
   "source": [
    "### Define system"
   ]
  },
  {
   "cell_type": "code",
   "execution_count": 2,
   "id": "7bf73e54-ceda-4080-b5b6-26e908c9249f",
   "metadata": {},
   "outputs": [],
   "source": [
    "system_type = 'discrete'\n",
    "measurement_type = 'linear'\n",
    "\n",
    "# Continuous-time system\n",
    "# A = np.array([[0.0, 1.0, 0.0],\n",
    "#               [-1.0, -1.0, 0.0],\n",
    "#               [0.0, 0.0, -1.0]])\n",
    "\n",
    "# Equivalent discrete-time system for dt = 0.1\n",
    "A = np.array([[0.9952, 0.095, 0.0],\n",
    "              [-0.095, 0.9002, 0.0],\n",
    "              [0.0, 0.0, 0.9048]])\n",
    "\n",
    "B = np.zeros((A.shape[0],1))\n",
    "\n",
    "C = np.array([[1.0, 0.0, 0.0],\n",
    "              [0.0, 1.0, 0.0],\n",
    "              [0.0, 0.0, 1.0]])\n",
    "\n",
    "D = np.zeros((C.shape[0],1))\n",
    "\n",
    "# Get sizes\n",
    "n_state = A.shape[0]\n",
    "n_output = C.shape[0]"
   ]
  },
  {
   "cell_type": "markdown",
   "id": "c36fb7b2-3a8b-447d-925a-a2ac52a98e44",
   "metadata": {},
   "source": [
    "### Define system simulator object"
   ]
  },
  {
   "cell_type": "code",
   "execution_count": 3,
   "id": "aac41eb5-e44d-48f1-9eff-a2959067a84b",
   "metadata": {},
   "outputs": [],
   "source": [
    "sys = LinearSystemSimulator(A, B, C, D,\n",
    "                            system_type=system_type,\n",
    "                            measurement_type=measurement_type)"
   ]
  },
  {
   "cell_type": "markdown",
   "id": "55962c2c-3178-4a74-8c2f-66a2f620646e",
   "metadata": {},
   "source": [
    "### Simulate"
   ]
  },
  {
   "cell_type": "code",
   "execution_count": 4,
   "id": "a03c5ac9-0ca7-4326-afb2-8a332ebb9355",
   "metadata": {},
   "outputs": [
    {
     "data": {
      "text/plain": [
       "[]"
      ]
     },
     "execution_count": 4,
     "metadata": {},
     "output_type": "execute_result"
    },
    {
     "data": {
      "image/png": "[encoded data removed]",
      "text/plain": [
       "<Figure size 432x288 with 1 Axes>"
      ]
     },
     "metadata": {
      "needs_background": "light"
     },
     "output_type": "display_data"
    }
   ],
   "source": [
    "x0 = np.ones(n_state)\n",
    "\n",
    "fs = 10 # match samping rate\n",
    "ts = 1 / fs\n",
    "T = 10\n",
    "\n",
    "tsim = np.arange(0, T, ts).T\n",
    "n_point = tsim.shape[0]\n",
    "usim = 0*np.ones((len(tsim), 1))\n",
    "\n",
    "# Simulate\n",
    "nominal_state, _ = sys.simulate(x0, tsim, usim)\n",
    "\n",
    "plt.plot(nominal_state['t'], nominal_state['x'])\n",
    "plt.plot()"
   ]
  },
  {
   "cell_type": "markdown",
   "id": "d62c1d08-ecc2-4e30-a8de-772fe39b222b",
   "metadata": {},
   "source": [
    "### Create a list of different C matrices to mimic different sensor configurations"
   ]
  },
  {
   "cell_type": "code",
   "execution_count": 5,
   "id": "b55a7dd7-72b5-4dcc-9555-416c3f0fbecf",
   "metadata": {},
   "outputs": [],
   "source": [
    "def all_combinations(n_state, set_sizes=None):\n",
    "    state_indices = np.arange(0, n_state, 1)\n",
    "    all_combos = []\n",
    "    \n",
    "    if set_sizes is not None:\n",
    "        n_output = set_sizes\n",
    "    else:\n",
    "        n_output = state_indices + 1\n",
    "        \n",
    "    for p in n_output: # every different size combination\n",
    "        combs = itertools.combinations(state_indices, p)\n",
    "        for c in combs:\n",
    "            rows = np.array(c)\n",
    "            C = state_indices[rows]\n",
    "            all_combos.append(C)\n",
    "\n",
    "    # Make basis vectors\n",
    "    ej_list = []\n",
    "    ej0 = np.zeros((1, n_state))\n",
    "    for c in all_combos:\n",
    "        ej = ej0.copy()\n",
    "        ej[0, c] = 1\n",
    "        ej_list.append(ej)\n",
    "        \n",
    "    return ej_list, all_combos"
   ]
  },
  {
   "cell_type": "code",
   "execution_count": 6,
   "id": "33dc23dc-18de-43f0-854d-af9565794081",
   "metadata": {},
   "outputs": [
    {
     "data": {
      "text/html": [
       "<div>\n",
       "<style scoped>\n",
       "    .dataframe tbody tr th:only-of-type {\n",
       "        vertical-align: middle;\n",
       "    }\n",
       "\n",
       "    .dataframe tbody tr th {\n",
       "        vertical-align: top;\n",
       "    }\n",
       "\n",
       "    .dataframe thead th {\n",
       "        text-align: right;\n",
       "    }\n",
       "</style>\n",
       "<table border=\"1\" class=\"dataframe\">\n",
       "  <thead>\n",
       "    <tr style=\"text-align: right;\">\n",
       "      <th></th>\n",
       "      <th>0</th>\n",
       "      <th>1</th>\n",
       "      <th>2</th>\n",
       "    </tr>\n",
       "  </thead>\n",
       "  <tbody>\n",
       "    <tr>\n",
       "      <th>0</th>\n",
       "      <td>1.0</td>\n",
       "      <td>0.0</td>\n",
       "      <td>0.0</td>\n",
       "    </tr>\n",
       "    <tr>\n",
       "      <th>1</th>\n",
       "      <td>0.0</td>\n",
       "      <td>1.0</td>\n",
       "      <td>0.0</td>\n",
       "    </tr>\n",
       "    <tr>\n",
       "      <th>2</th>\n",
       "      <td>0.0</td>\n",
       "      <td>0.0</td>\n",
       "      <td>1.0</td>\n",
       "    </tr>\n",
       "    <tr>\n",
       "      <th>3</th>\n",
       "      <td>1.0</td>\n",
       "      <td>1.0</td>\n",
       "      <td>0.0</td>\n",
       "    </tr>\n",
       "    <tr>\n",
       "      <th>4</th>\n",
       "      <td>1.0</td>\n",
       "      <td>0.0</td>\n",
       "      <td>1.0</td>\n",
       "    </tr>\n",
       "    <tr>\n",
       "      <th>5</th>\n",
       "      <td>0.0</td>\n",
       "      <td>1.0</td>\n",
       "      <td>1.0</td>\n",
       "    </tr>\n",
       "    <tr>\n",
       "      <th>6</th>\n",
       "      <td>1.0</td>\n",
       "      <td>1.0</td>\n",
       "      <td>1.0</td>\n",
       "    </tr>\n",
       "  </tbody>\n",
       "</table>\n",
       "</div>"
      ],
      "text/plain": [
       "     0    1    2\n",
       "0  1.0  0.0  0.0\n",
       "1  0.0  1.0  0.0\n",
       "2  0.0  0.0  1.0\n",
       "3  1.0  1.0  0.0\n",
       "4  1.0  0.0  1.0\n",
       "5  0.0  1.0  1.0\n",
       "6  1.0  1.0  1.0"
      ]
     },
     "execution_count": 6,
     "metadata": {},
     "output_type": "execute_result"
    }
   ],
   "source": [
    "# All combinations for a single sensor\n",
    "ej_list, all_combos = all_combinations(n_state)\n",
    "ej_list = np.vstack(ej_list)\n",
    "pd.DataFrame(np.vstack(ej_list))"
   ]
  },
  {
   "cell_type": "code",
   "execution_count": 7,
   "id": "d2916568-02e2-44dd-a78d-a7dbc943cd72",
   "metadata": {},
   "outputs": [],
   "source": [
    "# All combination of two sensors\n",
    "n_output = [1, 2]\n",
    "n_combo = len(ej_list)\n",
    "_, C_combos = all_combinations(n_combo, set_sizes=n_output)\n",
    "n_C = len(C_combos)"
   ]
  },
  {
   "cell_type": "code",
   "execution_count": 8,
   "id": "ed9813e7-f8ea-408c-b71f-002e080ffe06",
   "metadata": {},
   "outputs": [],
   "source": [
    "# Get sensor data for figure color label\n",
    "C_fig = []\n",
    "rows_max = 2\n",
    "for c in C_combos:\n",
    "    if c.shape[0] < rows_max:\n",
    "        C_new = np.matlib.repmat(c, 1, rows_max)\n",
    "    else:\n",
    "        C_new = c.copy()\n",
    "    \n",
    "    C_new = np.atleast_2d(C_new).T\n",
    "    C_fig.append(C_new)\n",
    "\n",
    "C_fig = np.vstack(C_fig).T\n",
    "scale_color = n_C / C_fig.shape[1]"
   ]
  },
  {
   "cell_type": "markdown",
   "id": "cc49a2e9-9a9f-4543-854b-f9a1491c1119",
   "metadata": {},
   "source": [
    "### Caclulate analytical & empirical observability matrix & Gramian for each sensor configuration"
   ]
  },
  {
   "cell_type": "code",
   "execution_count": 9,
   "id": "498fa5cc-26bb-4c6b-b821-b27a980d18e2",
   "metadata": {},
   "outputs": [
    {
     "name": "stderr",
     "output_type": "stream",
     "text": [
      "C:\\Users\\bcellini\\OneDrive - University of Nevada, Reno\\Research\\Code\\github\\EISO\\notebooks\\..\\code\\eiso.py:365: RuntimeWarning: divide by zero encountered in scalar divide\n",
      "  CN = maxE / minE\n"
     ]
    }
   ],
   "source": [
    "data = {'C': [],\n",
    "        'O': [],\n",
    "        'W': [],\n",
    "        'CN_O': [],\n",
    "        'CN_W': [],\n",
    "        'Oe': [],\n",
    "        'We': [],\n",
    "        'CN_Oe': [],\n",
    "        'CN_We': [],\n",
    "        'O_rank_test': []}\n",
    "        \n",
    "for c in C_combos:\n",
    "    # Sensor configuration\n",
    "    C = np.vstack(ej_list[c])\n",
    "    D = np.zeros((C.shape[0], 1))\n",
    "    \n",
    "    # Analytical observability matrix & Gramian\n",
    "    O = control.obsv(A, C)    \n",
    "    W = analytical_observability_gramian(A, C, system_type, n_derivatives=n_point)\n",
    "    \n",
    "    CN_O = calculate_condition_number(O, svdFlag=True, square=True)\n",
    "    CN_W = calculate_condition_number(W, svdFlag=True, square=False)\n",
    "    \n",
    "    # Empirical observability matrix & Gramian\n",
    "    sys = LinearSystemSimulator(A, B, C, D, measurement_type=measurement_type, system_type=system_type)\n",
    "    Obsv = ObservabilityMatrix(sys, nominal_state['t'], nominal_state['x'], nominal_state['u'])\n",
    "    Oe, deltay = Obsv.calculate_O(x0, nominal_state['t'], nominal_state['u'], eps=0.001)\n",
    "    We = Oe.T @ Oe\n",
    "    \n",
    "    CN_Oe = calculate_condition_number(Oe, svdFlag=True, square=True)\n",
    "    CN_We = calculate_condition_number(We, svdFlag=True, square=False)\n",
    "    \n",
    "    # Rank test on O\n",
    "    O_rank_test = rank_test(O)\n",
    "    \n",
    "    # Store data in list\n",
    "    data['C'].append(C)\n",
    "    data['O'].append(O)\n",
    "    data['W'].append(W)\n",
    "    data['CN_O'].append(CN_O)\n",
    "    data['CN_W'].append(CN_W)\n",
    "    data['Oe'].append(Oe)\n",
    "    data['We'].append(We)\n",
    "    data['CN_Oe'].append(CN_Oe)\n",
    "    data['CN_We'].append(CN_We)\n",
    "    data['O_rank_test'].append(O_rank_test)\n",
    "    \n",
    "data['O_rank_test_all'] = np.vstack(data['O_rank_test']).T"
   ]
  },
  {
   "cell_type": "markdown",
   "id": "af1c7e5d-1d56-45c4-a445-10e39aebadc8",
   "metadata": {},
   "source": [
    "### Run E-ISO on each sensor configuration"
   ]
  },
  {
   "cell_type": "code",
   "execution_count": 10,
   "id": "80682e1e-8687-4327-a561-7ec247610d5d",
   "metadata": {},
   "outputs": [
    {
     "name": "stdout",
     "output_type": "stream",
     "text": [
      "\n",
      "state: 0\n",
      "0 1 2 3 4 5 6 7 8 9 10 11 12 13 14 15 16 17 18 19 20 21 22 23 24 25 26 27 \n",
      "state: 1\n",
      "0 1 2 3 4 5 6 7 8 9 10 11 12 13 14 15 16 17 18 19 20 21 22 23 24 25 26 27 \n",
      "state: 2\n",
      "0 1 2 3 4 5 6 7 8 9 10 11 12 13 14 15 16 17 18 19 20 21 22 23 24 25 26 27 \n",
      "Done\n"
     ]
    }
   ],
   "source": [
    "data['EISO'] = np.zeros((n_state, n_C))\n",
    "data['EISO_iters'] = np.zeros((n_state, n_C))\n",
    "\n",
    "alpha = 1e-4\n",
    "beta = 1e-2\n",
    "sigma = 'auto'\n",
    "square = True\n",
    "norm = None\n",
    "\n",
    "sv = np.arange(0, n_state, 1)\n",
    "for s in sv:\n",
    "    print('\\nstate:', s)\n",
    "    for n, o in enumerate(data['Oe']):\n",
    "        print(n, end=' ')\n",
    "        out = optimize_matrix_rows_to_states_iterative(o,\n",
    "                                                       states=[s],\n",
    "                                                       alpha=alpha,\n",
    "                                                       beta=beta,\n",
    "                                                       sigma=sigma,\n",
    "                                                       square=square,\n",
    "                                                       include_constraints=False,\n",
    "                                                       norm=norm)\n",
    "\n",
    "        data['EISO'][s, n] = out['CN_min']\n",
    "        \n",
    "        iters = out['iteration_index']\n",
    "        if np.any(np.isnan(iters)):\n",
    "            data['EISO_iters'][s, n] = np.nan\n",
    "        else:\n",
    "             data['EISO_iters'][s, n] = out['iteration_index'].shape[0]\n",
    "\n",
    "print('\\nDone')"
   ]
  },
  {
   "cell_type": "markdown",
   "id": "4e4a01c6-ae9a-4272-9bb2-e0d2122872d6",
   "metadata": {},
   "source": [
    "### Plot"
   ]
  },
  {
   "cell_type": "code",
   "execution_count": 11,
   "id": "17f5a9a3-1fae-4b11-8275-90b8072752b0",
   "metadata": {},
   "outputs": [
    {
     "data": {
      "image/png": "[encoded data removed]",
      "text/plain": [
       "<Figure size 3360x360 with 5 Axes>"
      ]
     },
     "metadata": {
      "needs_background": "light"
     },
     "output_type": "display_data"
    }
   ],
   "source": [
    "fig, ax = plt.subplots(3, 1, figsize=(n_C*0.4, n_state*0.4), dpi=300, gridspec_kw={'height_ratios':[1, n_state, scale_color]})\n",
    "\n",
    "aspect = 1\n",
    "\n",
    "cmap = 'RdPu'\n",
    "cmapr = cmap + '_r'\n",
    "\n",
    "lim = n_C\n",
    "\n",
    "cdata_W = data['CN_W'].copy()\n",
    "cdata_W = cdata_W[0:lim]\n",
    "cdata_W = np.atleast_2d(cdata_W)\n",
    "cdata_W[cdata_W == np.inf] = np.nan\n",
    "\n",
    "cdata_EISO = data['EISO'].copy()\n",
    "cdata_EISO = cdata_EISO[:, 0:lim]\n",
    "\n",
    "cnorm = 1.2*np.max([np.nanmax(cdata_W), np.nanmax(cdata_EISO)])\n",
    "cdata_W = np.nan_to_num(cdata_W, nan=cnorm)\n",
    "cdata_EISO = np.nan_to_num(cdata_EISO, nan=cnorm)\n",
    "\n",
    "cdata_all = np.vstack((cdata_EISO, cdata_W))\n",
    "cmax = np.max(cdata_all)\n",
    "cmin = np.min(cdata_all)\n",
    "\n",
    "# Gramian condition #\n",
    "ax[0].imshow(cdata_W, cmap=cmapr, vmin=cmin, vmax=cmax, aspect=aspect)\n",
    "ax[0].set_title('Gramian', fontsize=8)\n",
    "\n",
    "# E-ISO condition #\n",
    "ax[1].imshow(cdata_EISO, cmap=cmapr, vmin=cmin, vmax=cmax, aspect=aspect)\n",
    "# ax[1].set_title('E-SIO', fontsize=8)\n",
    "\n",
    "# Sensor configuration color labels\n",
    "ax[2].imshow(C_fig, cmap='Accent', aspect=aspect)\n",
    "fifi.mpl_functions.adjust_spines(ax[2], [])\n",
    "\n",
    "for a in ax[0:2]:\n",
    "    a.set_xticks(np.arange(0, n_C, 1) - 0.5)\n",
    "    a.tick_params(axis='x', labelsize=7, direction='out', length=0)\n",
    "    a.tick_params(axis='y', labelsize=7, direction='out', length=0)\n",
    "    a.grid(linewidth=0.5, color='black')\n",
    "    a.set_facecolor('lightgray')\n",
    "    a.set_xticklabels(labels=[], fontsize=7)\n",
    "    a.xaxis.set_tick_params(labelbottom=False)\n",
    "    a.yaxis.set_tick_params(labelleft=False)\n",
    "    \n",
    "    for p in ['top','bottom','left','right']:\n",
    "        a.spines[p].set_linewidth(0.5)\n",
    "        a.spines[p].set_color('black')\n",
    "\n",
    "ax[1].set_ylabel('States', fontsize=8)\n",
    "ax[1].set_xlabel('C matrix', fontsize=8)\n",
    "\n",
    "ax[0].set_yticks([])\n",
    "ax[1].set_yticks(np.arange(0, n_state, 1) + 0.5)\n",
    "\n",
    "# fifi.mpl_functions.adjust_spines(ax[2], [])\n",
    "\n",
    "cbar_ax = fig.add_axes([0.78, 0.15, 0.01, 0.7])\n",
    "fifi.mpl_functions.adjust_spines(cbar_ax, [])\n",
    "\n",
    "cbar = fig.colorbar(cm.ScalarMappable(cmap=cmap), ax=cbar_ax, fraction=1, pad=0, location='right')\n",
    "cbar.set_label('Observability level', color='black', fontsize=8)\n",
    "cbar.ax.yaxis.set_tick_params(color='k', labelsize=7)\n",
    "\n",
    "figpath = os.path.join(figdir, r'figure_2.pdf')\n",
    "plt.savefig(figpath, bbox_inches='tight')"
   ]
  },
  {
   "cell_type": "markdown",
   "id": "fdda86c6-f5ed-4d28-b193-6fef914484c9",
   "metadata": {},
   "source": [
    "### Binary observability from rank test"
   ]
  },
  {
   "cell_type": "code",
   "execution_count": 12,
   "id": "6d2bee79-f01d-49e5-997d-0eb9acf74d06",
   "metadata": {},
   "outputs": [
    {
     "data": {
      "image/png": "[encoded data removed]",
      "text/plain": [
       "<Figure size 3360x120 with 1 Axes>"
      ]
     },
     "metadata": {},
     "output_type": "display_data"
    }
   ],
   "source": [
    "fig, ax = plt.subplots(1, 1, figsize=(n_C*0.4, 1*0.4), dpi=300)\n",
    "ax.imshow(data['O_rank_test_all'], cmap=cmap, aspect=aspect)\n",
    "\n",
    "a = ax\n",
    "a.set_yticks(np.arange(0, n_state, 1) + 0.5)\n",
    "a.set_xticks(np.arange(0, n_C, 1) - 0.5)\n",
    "a.tick_params(axis='x', labelsize=7, direction='out', length=0)\n",
    "a.tick_params(axis='y', labelsize=7, direction='out', length=0)\n",
    "a.grid(linewidth=0.5, color='black')\n",
    "a.set_facecolor('lightgray')\n",
    "a.set_xticklabels(labels=[], fontsize=7)\n",
    "a.xaxis.set_tick_params(labelbottom=False)\n",
    "a.yaxis.set_tick_params(labelleft=False)\n",
    "\n",
    "for p in ['top','bottom','left','right']:\n",
    "    a.spines[p].set_linewidth(0.5)\n",
    "    a.spines[p].set_color('black')"
   ]
  },
  {
   "cell_type": "markdown",
   "id": "58585116-db4e-49a8-b166-f9e3a778ca91",
   "metadata": {
    "tags": []
   },
   "source": [
    "### Correlation between condition # of Gramian & maximum condition number from E-ISO"
   ]
  },
  {
   "cell_type": "code",
   "execution_count": 13,
   "id": "9bfee0ff-17d3-468b-8aee-4523c804bcdc",
   "metadata": {},
   "outputs": [
    {
     "name": "stdout",
     "output_type": "stream",
     "text": [
      "R^2 = 0.9946741279042118\n",
      "p = 4.5563005791690556e-23\n"
     ]
    }
   ],
   "source": [
    "EISO_max_CN = np.max(data['EISO'].T, axis=1)\n",
    "CN_W = np.hstack(data['CN_W'])\n",
    "\n",
    "x = EISO_max_CN.copy()\n",
    "x = x[~np.isnan(x)]\n",
    "\n",
    "y = CN_W.copy()\n",
    "y = y[~np.isinf(y)]\n",
    "\n",
    "slope, intercept, r_value, p_value, std_err = scipy.stats.linregress(x, y)\n",
    "R2 = r_value**2\n",
    "xfit = np.arange(np.min(x), np.max(x) + 1, 1)\n",
    "yfit = intercept + slope*xfit\n",
    "\n",
    "print('R^2 =', R2)\n",
    "print('p =', p_value)"
   ]
  },
  {
   "cell_type": "code",
   "execution_count": 14,
   "id": "af68c9ad-bfd9-4e8d-829d-a727faebd284",
   "metadata": {},
   "outputs": [
    {
     "data": {
      "image/png": "[encoded data removed]",
      "text/plain": [
       "<Figure size 200x200 with 1 Axes>"
      ]
     },
     "metadata": {
      "needs_background": "light"
     },
     "output_type": "display_data"
    }
   ],
   "source": [
    "fig, ax = plt.subplots(1, 1, figsize=(2, 2), dpi=100)\n",
    "\n",
    "ax.plot(xfit, yfit, 'b')\n",
    "ax.plot(EISO_max_CN, data['CN_W'], '.r')\n",
    "\n",
    "ax.set_title('$R^2$ = ' + str(np.round(R2,4)), fontsize=8)\n",
    "ax.set_ylabel('Gramian condition #', fontsize=8)\n",
    "ax.set_xlabel('max(E-ISO condition #)', fontsize=8)\n",
    "ax.tick_params(axis='x', labelsize=7)\n",
    "ax.tick_params(axis='y', labelsize=7)\n",
    "\n",
    "axticks = np.hstack((np.array(1), np.arange(10, 51, 10)))\n",
    "ax.set_xticks(axticks)\n",
    "ax.set_yticks(axticks)\n",
    "\n",
    "ax.grid(linewidth=0.5, color='black')"
   ]
  },
  {
   "cell_type": "code",
   "execution_count": null,
   "id": "25e0a61b-c0d1-4f1a-9cb1-2c92f62a5adb",
   "metadata": {},
   "outputs": [],
   "source": []
  }
 ],
 "metadata": {
  "kernelspec": {
   "display_name": "Python 3 (ipykernel)",
   "language": "python",
   "name": "python3"
  },
  "language_info": {
   "codemirror_mode": {
    "name": "ipython",
    "version": 3
   },
   "file_extension": ".py",
   "mimetype": "text/x-python",
   "name": "python",
   "nbconvert_exporter": "python",
   "pygments_lexer": "ipython3",
   "version": "3.9.12"
  }
 },
 "nbformat": 4,
 "nbformat_minor": 5
}
