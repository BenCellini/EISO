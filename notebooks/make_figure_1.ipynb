{
 "cells": [
  {
   "cell_type": "code",
   "execution_count": 1,
   "id": "f99483a7-928e-43e8-b402-1fab51757fec",
   "metadata": {},
   "outputs": [],
   "source": [
    "%reset -f\n",
    "%load_ext autoreload\n",
    "%autoreload 2\n",
    "\n",
    "import sys\n",
    "import os\n",
    "\n",
    "sys.path.append(os.path.join(os.path.pardir, 'code'))\n",
    "figdir = os.path.join(os.path.pardir, 'figures')\n",
    "\n",
    "import numpy as np\n",
    "import pandas as pd\n",
    "import matplotlib.pyplot as plt\n",
    "from matplotlib import cm\n",
    "import itertools\n",
    "\n",
    "from simulator import LinearSystemSimulator\n",
    "from observability import ObservabilityMatrix\n",
    "from eiso import optimize_matrix_rows_to_state, optimize_matrix_rows_to_states, optimize_matrix_rows_to_states_iterative\n",
    "from eiso import analytical_observability_gramian, calculate_condition_number"
   ]
  },
  {
   "cell_type": "markdown",
   "id": "59b8779b-b740-4f76-be2b-a9570831a75c",
   "metadata": {},
   "source": [
    "### Define system"
   ]
  },
  {
   "cell_type": "code",
   "execution_count": 2,
   "id": "7bf73e54-ceda-4080-b5b6-26e908c9249f",
   "metadata": {},
   "outputs": [],
   "source": [
    "k1 = 1\n",
    "k2 = k1\n",
    "m = 1\n",
    "b = 1\n",
    "\n",
    "A = np.array([[0.0, 1.0, 0.0],\n",
    "              [-(k1 + k2)/b, 0.0, k1/m],\n",
    "              [k1/b, 0.0, -k1/b]])\n",
    "\n",
    "B = np.array([[0.0],\n",
    "              [1.0/m],\n",
    "              [0.0]])\n",
    "\n",
    "C = np.array([[1.0, 0.0, 0.0],\n",
    "              [1.0, 1.0, 1.0],\n",
    "              [0.0, 1.0, 1.0]])\n",
    "\n",
    "D = np.zeros((C.shape[0], 1))\n",
    "\n",
    "# Get sizes\n",
    "n_state = A.shape[0]\n",
    "n_output = C.shape[0]"
   ]
  },
  {
   "cell_type": "markdown",
   "id": "8e4cac0d-0a3c-47bd-b924-dd1beebf3f4d",
   "metadata": {},
   "source": [
    "### Analytical observability matrix"
   ]
  },
  {
   "cell_type": "code",
   "execution_count": 3,
   "id": "0e06b167-5799-4ddb-99ba-74fa64ea2a30",
   "metadata": {},
   "outputs": [
    {
     "data": {
      "text/html": [
       "<div>\n",
       "<style scoped>\n",
       "    .dataframe tbody tr th:only-of-type {\n",
       "        vertical-align: middle;\n",
       "    }\n",
       "\n",
       "    .dataframe tbody tr th {\n",
       "        vertical-align: top;\n",
       "    }\n",
       "\n",
       "    .dataframe thead th {\n",
       "        text-align: right;\n",
       "    }\n",
       "</style>\n",
       "<table border=\"1\" class=\"dataframe\">\n",
       "  <thead>\n",
       "    <tr style=\"text-align: right;\">\n",
       "      <th></th>\n",
       "      <th>0</th>\n",
       "      <th>1</th>\n",
       "      <th>2</th>\n",
       "    </tr>\n",
       "  </thead>\n",
       "  <tbody>\n",
       "    <tr>\n",
       "      <th>0</th>\n",
       "      <td>1.0</td>\n",
       "      <td>0.0</td>\n",
       "      <td>0.0</td>\n",
       "    </tr>\n",
       "    <tr>\n",
       "      <th>1</th>\n",
       "      <td>1.0</td>\n",
       "      <td>1.0</td>\n",
       "      <td>1.0</td>\n",
       "    </tr>\n",
       "    <tr>\n",
       "      <th>2</th>\n",
       "      <td>0.0</td>\n",
       "      <td>1.0</td>\n",
       "      <td>1.0</td>\n",
       "    </tr>\n",
       "    <tr>\n",
       "      <th>3</th>\n",
       "      <td>0.0</td>\n",
       "      <td>1.0</td>\n",
       "      <td>0.0</td>\n",
       "    </tr>\n",
       "    <tr>\n",
       "      <th>4</th>\n",
       "      <td>-1.0</td>\n",
       "      <td>1.0</td>\n",
       "      <td>0.0</td>\n",
       "    </tr>\n",
       "    <tr>\n",
       "      <th>5</th>\n",
       "      <td>-1.0</td>\n",
       "      <td>0.0</td>\n",
       "      <td>0.0</td>\n",
       "    </tr>\n",
       "    <tr>\n",
       "      <th>6</th>\n",
       "      <td>-2.0</td>\n",
       "      <td>0.0</td>\n",
       "      <td>1.0</td>\n",
       "    </tr>\n",
       "    <tr>\n",
       "      <th>7</th>\n",
       "      <td>-2.0</td>\n",
       "      <td>-1.0</td>\n",
       "      <td>1.0</td>\n",
       "    </tr>\n",
       "    <tr>\n",
       "      <th>8</th>\n",
       "      <td>0.0</td>\n",
       "      <td>-1.0</td>\n",
       "      <td>0.0</td>\n",
       "    </tr>\n",
       "  </tbody>\n",
       "</table>\n",
       "</div>"
      ],
      "text/plain": [
       "     0    1    2\n",
       "0  1.0  0.0  0.0\n",
       "1  1.0  1.0  1.0\n",
       "2  0.0  1.0  1.0\n",
       "3  0.0  1.0  0.0\n",
       "4 -1.0  1.0  0.0\n",
       "5 -1.0  0.0  0.0\n",
       "6 -2.0  0.0  1.0\n",
       "7 -2.0 -1.0  1.0\n",
       "8  0.0 -1.0  0.0"
      ]
     },
     "execution_count": 3,
     "metadata": {},
     "output_type": "execute_result"
    }
   ],
   "source": [
    "_, Oa = analytical_observability_gramian(A, C, 'continuous', use_observability_matrix=True)\n",
    "pd.DataFrame(Oa)"
   ]
  },
  {
   "cell_type": "markdown",
   "id": "c36fb7b2-3a8b-447d-925a-a2ac52a98e44",
   "metadata": {},
   "source": [
    "### Define system simulator object"
   ]
  },
  {
   "cell_type": "code",
   "execution_count": 4,
   "id": "aac41eb5-e44d-48f1-9eff-a2959067a84b",
   "metadata": {},
   "outputs": [],
   "source": [
    "sys = LinearSystemSimulator(A, B, C, D,\n",
    "                            system_type='continuous',\n",
    "                            measurement_type='linear')"
   ]
  },
  {
   "cell_type": "markdown",
   "id": "55962c2c-3178-4a74-8c2f-66a2f620646e",
   "metadata": {},
   "source": [
    "### Simulate"
   ]
  },
  {
   "cell_type": "code",
   "execution_count": 5,
   "id": "a03c5ac9-0ca7-4326-afb2-8a332ebb9355",
   "metadata": {},
   "outputs": [
    {
     "name": "stdout",
     "output_type": "stream",
     "text": [
      "[0.85 0.   0.  ]\n"
     ]
    },
    {
     "data": {
      "image/png": "[encoded data removed]",
      "text/plain": [
       "<Figure size 432x288 with 1 Axes>"
      ]
     },
     "metadata": {
      "needs_background": "light"
     },
     "output_type": "display_data"
    }
   ],
   "source": [
    "# Set time & input(s)\n",
    "T = 10 # total time [s]\n",
    "fs = 10 # sampling rate [hz]\n",
    "ts = 1 / fs # time step [s]\n",
    "\n",
    "# Simulation time\n",
    "tsim = np.arange(0, T, ts).T\n",
    "n_point = tsim.shape[0]\n",
    "\n",
    "# Simulation input\n",
    "usim = np.zeros((len(tsim), 1))\n",
    "\n",
    "# Initial conditions\n",
    "x0 = 0.85*np.squeeze(np.ones((1,n_state)))\n",
    "x0[1:] = 0\n",
    "print(x0)\n",
    "\n",
    "# Simulate\n",
    "nominal_state, _ = sys.simulate(x0, tsim, usim)\n",
    "\n",
    "# Plot\n",
    "plt.plot(nominal_state['t'], nominal_state['x'])\n",
    "plt.show()"
   ]
  },
  {
   "cell_type": "markdown",
   "id": "fe33895e-afb1-492c-a2d9-4d6806bf6c72",
   "metadata": {},
   "source": [
    "### Calculate empirical observability matrix"
   ]
  },
  {
   "cell_type": "code",
   "execution_count": 6,
   "id": "d49cbd41-5aa3-461a-aa0e-94a43137f7e9",
   "metadata": {},
   "outputs": [
    {
     "data": {
      "text/html": [
       "<div>\n",
       "<style scoped>\n",
       "    .dataframe tbody tr th:only-of-type {\n",
       "        vertical-align: middle;\n",
       "    }\n",
       "\n",
       "    .dataframe tbody tr th {\n",
       "        vertical-align: top;\n",
       "    }\n",
       "\n",
       "    .dataframe thead th {\n",
       "        text-align: right;\n",
       "    }\n",
       "</style>\n",
       "<table border=\"1\" class=\"dataframe\">\n",
       "  <thead>\n",
       "    <tr style=\"text-align: right;\">\n",
       "      <th></th>\n",
       "      <th>0</th>\n",
       "      <th>1</th>\n",
       "      <th>2</th>\n",
       "    </tr>\n",
       "  </thead>\n",
       "  <tbody>\n",
       "    <tr>\n",
       "      <th>0</th>\n",
       "      <td>1.000000</td>\n",
       "      <td>0.000000</td>\n",
       "      <td>0.000000</td>\n",
       "    </tr>\n",
       "    <tr>\n",
       "      <th>1</th>\n",
       "      <td>1.000000</td>\n",
       "      <td>1.000000</td>\n",
       "      <td>1.000000</td>\n",
       "    </tr>\n",
       "    <tr>\n",
       "      <th>2</th>\n",
       "      <td>0.000000</td>\n",
       "      <td>1.000000</td>\n",
       "      <td>1.000000</td>\n",
       "    </tr>\n",
       "    <tr>\n",
       "      <th>3</th>\n",
       "      <td>0.990179</td>\n",
       "      <td>0.099671</td>\n",
       "      <td>0.004829</td>\n",
       "    </tr>\n",
       "    <tr>\n",
       "      <th>4</th>\n",
       "      <td>0.890508</td>\n",
       "      <td>1.094679</td>\n",
       "      <td>1.004667</td>\n",
       "    </tr>\n",
       "    <tr>\n",
       "      <th>...</th>\n",
       "      <td>...</td>\n",
       "      <td>...</td>\n",
       "      <td>...</td>\n",
       "    </tr>\n",
       "    <tr>\n",
       "      <th>295</th>\n",
       "      <td>0.139416</td>\n",
       "      <td>0.076555</td>\n",
       "      <td>-0.036755</td>\n",
       "    </tr>\n",
       "    <tr>\n",
       "      <th>296</th>\n",
       "      <td>0.002482</td>\n",
       "      <td>0.079037</td>\n",
       "      <td>0.021141</td>\n",
       "    </tr>\n",
       "    <tr>\n",
       "      <th>297</th>\n",
       "      <td>0.130581</td>\n",
       "      <td>0.010911</td>\n",
       "      <td>-0.051970</td>\n",
       "    </tr>\n",
       "    <tr>\n",
       "      <th>298</th>\n",
       "      <td>0.119670</td>\n",
       "      <td>0.089521</td>\n",
       "      <td>-0.025329</td>\n",
       "    </tr>\n",
       "    <tr>\n",
       "      <th>299</th>\n",
       "      <td>-0.010911</td>\n",
       "      <td>0.078611</td>\n",
       "      <td>0.026641</td>\n",
       "    </tr>\n",
       "  </tbody>\n",
       "</table>\n",
       "<p>300 rows × 3 columns</p>\n",
       "</div>"
      ],
      "text/plain": [
       "            0         1         2\n",
       "0    1.000000  0.000000  0.000000\n",
       "1    1.000000  1.000000  1.000000\n",
       "2    0.000000  1.000000  1.000000\n",
       "3    0.990179  0.099671  0.004829\n",
       "4    0.890508  1.094679  1.004667\n",
       "..        ...       ...       ...\n",
       "295  0.139416  0.076555 -0.036755\n",
       "296  0.002482  0.079037  0.021141\n",
       "297  0.130581  0.010911 -0.051970\n",
       "298  0.119670  0.089521 -0.025329\n",
       "299 -0.010911  0.078611  0.026641\n",
       "\n",
       "[300 rows x 3 columns]"
      ]
     },
     "execution_count": 6,
     "metadata": {},
     "output_type": "execute_result"
    }
   ],
   "source": [
    "Obsv = ObservabilityMatrix(sys, nominal_state['t'], nominal_state['x'], nominal_state['u'])\n",
    "Oe, deltay = Obsv.calculate_O(x0, tsim, usim, eps=0.001)\n",
    "Oe_norm = Oe / Oe[0,0]\n",
    "pd.DataFrame(Oe_norm)"
   ]
  },
  {
   "cell_type": "markdown",
   "id": "8c3548aa-db79-42ef-ac31-01d193cd1f4f",
   "metadata": {},
   "source": [
    "### Calculate empirical observability Gramian from empirical observability matrix"
   ]
  },
  {
   "cell_type": "code",
   "execution_count": 7,
   "id": "22058019-3ecb-437b-95e1-8830700755bd",
   "metadata": {},
   "outputs": [
    {
     "data": {
      "text/html": [
       "<div>\n",
       "<style scoped>\n",
       "    .dataframe tbody tr th:only-of-type {\n",
       "        vertical-align: middle;\n",
       "    }\n",
       "\n",
       "    .dataframe tbody tr th {\n",
       "        vertical-align: top;\n",
       "    }\n",
       "\n",
       "    .dataframe thead th {\n",
       "        text-align: right;\n",
       "    }\n",
       "</style>\n",
       "<table border=\"1\" class=\"dataframe\">\n",
       "  <thead>\n",
       "    <tr style=\"text-align: right;\">\n",
       "      <th></th>\n",
       "      <th>0</th>\n",
       "      <th>1</th>\n",
       "      <th>2</th>\n",
       "    </tr>\n",
       "  </thead>\n",
       "  <tbody>\n",
       "    <tr>\n",
       "      <th>0</th>\n",
       "      <td>5.038</td>\n",
       "      <td>-0.942</td>\n",
       "      <td>-2.919</td>\n",
       "    </tr>\n",
       "    <tr>\n",
       "      <th>1</th>\n",
       "      <td>-0.942</td>\n",
       "      <td>5.053</td>\n",
       "      <td>4.084</td>\n",
       "    </tr>\n",
       "    <tr>\n",
       "      <th>2</th>\n",
       "      <td>-2.919</td>\n",
       "      <td>4.084</td>\n",
       "      <td>5.083</td>\n",
       "    </tr>\n",
       "  </tbody>\n",
       "</table>\n",
       "</div>"
      ],
      "text/plain": [
       "       0      1      2\n",
       "0  5.038 -0.942 -2.919\n",
       "1 -0.942  5.053  4.084\n",
       "2 -2.919  4.084  5.083"
      ]
     },
     "execution_count": 7,
     "metadata": {},
     "output_type": "execute_result"
    }
   ],
   "source": [
    "We = Oe.T @ Oe\n",
    "pd.DataFrame( np.round(We, 3))"
   ]
  },
  {
   "cell_type": "code",
   "execution_count": 8,
   "id": "29c7265c-5075-4942-a1bb-4f862d08ef99",
   "metadata": {},
   "outputs": [
    {
     "data": {
      "text/plain": [
       "22.838916016221074"
      ]
     },
     "execution_count": 8,
     "metadata": {},
     "output_type": "execute_result"
    }
   ],
   "source": [
    "CN_We = calculate_condition_number(We, square=False)\n",
    "CN_We"
   ]
  },
  {
   "cell_type": "markdown",
   "id": "2a3fa45c-c4ae-471f-b97d-9bfce0f2d4c6",
   "metadata": {},
   "source": [
    "### Calculate analytical observability Gramian"
   ]
  },
  {
   "cell_type": "code",
   "execution_count": 9,
   "id": "282b4630-fe97-429d-b3db-c2b60950a995",
   "metadata": {},
   "outputs": [
    {
     "data": {
      "text/html": [
       "<div>\n",
       "<style scoped>\n",
       "    .dataframe tbody tr th:only-of-type {\n",
       "        vertical-align: middle;\n",
       "    }\n",
       "\n",
       "    .dataframe tbody tr th {\n",
       "        vertical-align: top;\n",
       "    }\n",
       "\n",
       "    .dataframe thead th {\n",
       "        text-align: right;\n",
       "    }\n",
       "</style>\n",
       "<table border=\"1\" class=\"dataframe\">\n",
       "  <thead>\n",
       "    <tr style=\"text-align: right;\">\n",
       "      <th></th>\n",
       "      <th>0</th>\n",
       "      <th>1</th>\n",
       "      <th>2</th>\n",
       "    </tr>\n",
       "  </thead>\n",
       "  <tbody>\n",
       "    <tr>\n",
       "      <th>0</th>\n",
       "      <td>5.0</td>\n",
       "      <td>-1.0</td>\n",
       "      <td>-3.0</td>\n",
       "    </tr>\n",
       "    <tr>\n",
       "      <th>1</th>\n",
       "      <td>-1.0</td>\n",
       "      <td>5.0</td>\n",
       "      <td>4.0</td>\n",
       "    </tr>\n",
       "    <tr>\n",
       "      <th>2</th>\n",
       "      <td>-3.0</td>\n",
       "      <td>4.0</td>\n",
       "      <td>5.0</td>\n",
       "    </tr>\n",
       "  </tbody>\n",
       "</table>\n",
       "</div>"
      ],
      "text/plain": [
       "     0    1    2\n",
       "0  5.0 -1.0 -3.0\n",
       "1 -1.0  5.0  4.0\n",
       "2 -3.0  4.0  5.0"
      ]
     },
     "execution_count": 9,
     "metadata": {},
     "output_type": "execute_result"
    }
   ],
   "source": [
    "Wa = analytical_observability_gramian(A, C, 'continuous', use_observability_matrix=False)\n",
    "pd.DataFrame(Wa)"
   ]
  },
  {
   "cell_type": "code",
   "execution_count": 10,
   "id": "7c152dd4-426d-4b8b-a509-1dbc55ddd978",
   "metadata": {},
   "outputs": [
    {
     "data": {
      "text/plain": [
       "23.50446969207272"
      ]
     },
     "execution_count": 10,
     "metadata": {},
     "output_type": "execute_result"
    }
   ],
   "source": [
    "CN_Wa = calculate_condition_number(Wa, square=False)\n",
    "CN_Wa"
   ]
  },
  {
   "cell_type": "markdown",
   "id": "72fb0c71-0311-4727-b785-4ffda406f252",
   "metadata": {},
   "source": [
    "### Collect rows for each combination of states"
   ]
  },
  {
   "cell_type": "code",
   "execution_count": 11,
   "id": "37ba4089-1430-457b-95a4-7d7eeb2bee14",
   "metadata": {},
   "outputs": [
    {
     "name": "stdout",
     "output_type": "stream",
     "text": [
      "[0]\n",
      "[1]\n",
      "[2]\n",
      "[0 1]\n",
      "[0 2]\n",
      "[1 2]\n",
      "[0 1 2]\n"
     ]
    }
   ],
   "source": [
    "all_states = np.arange(0, n_state, 1)\n",
    "comb_sizes = all_states.copy()\n",
    "states_of_interest = []\n",
    "for r in comb_sizes: # every different size combination\n",
    "    combs = itertools.combinations(all_states, r + 1)\n",
    "    for c in combs:\n",
    "        s = np.array(c)\n",
    "        slist = [[i] for i in s]\n",
    "        states_of_interest.append(slist)\n",
    "        print(s)"
   ]
  },
  {
   "cell_type": "code",
   "execution_count": 12,
   "id": "3cfe6a51-38d7-424f-8b5c-d96efa91b59c",
   "metadata": {},
   "outputs": [
    {
     "data": {
      "text/plain": [
       "[[[0]], [[1]], [[2]], [[0], [1]], [[0], [2]], [[1], [2]], [[0], [1], [2]]]"
      ]
     },
     "execution_count": 12,
     "metadata": {},
     "output_type": "execute_result"
    }
   ],
   "source": [
    "states_of_interest"
   ]
  },
  {
   "cell_type": "markdown",
   "id": "05ad9d29-5311-4b70-b5c2-3509e4acff07",
   "metadata": {},
   "source": [
    "### Run E-ISO on each state combination"
   ]
  },
  {
   "cell_type": "code",
   "execution_count": 13,
   "id": "ba3e2b2a-f771-4a14-a791-97160b9e546e",
   "metadata": {},
   "outputs": [
    {
     "name": "stdout",
     "output_type": "stream",
     "text": [
      "[[0]]\n",
      "[[1]]\n",
      "[[2]]\n",
      "[[0], [1]]\n",
      "[[0], [2]]\n",
      "[[1], [2]]\n",
      "[[0], [1], [2]]\n"
     ]
    }
   ],
   "source": [
    "alpha = 1e-2\n",
    "beta = 1e-3\n",
    "sigma = 1e-6\n",
    "\n",
    "norm = None\n",
    "state_iter_data = []\n",
    "for n, s in enumerate(states_of_interest):\n",
    "    print(s)\n",
    "    out = optimize_matrix_rows_to_states_iterative(Oe,\n",
    "                                                   states=s,\n",
    "                                                   alpha=alpha,\n",
    "                                                   beta=beta,\n",
    "                                                   sigma=sigma,\n",
    "                                                   include_constraints=False,\n",
    "                                                   norm=norm)\n",
    "    out['comb'] = n\n",
    "    state_iter_data.append(out)"
   ]
  },
  {
   "cell_type": "markdown",
   "id": "130c4dfb-d926-48de-ac75-5c83000d0b6a",
   "metadata": {},
   "source": [
    "### Check if states were reconstructed for each combination"
   ]
  },
  {
   "cell_type": "code",
   "execution_count": 14,
   "id": "c3a432fb-a0e5-4358-a861-7c5a42fcae8f",
   "metadata": {},
   "outputs": [
    {
     "name": "stdout",
     "output_type": "stream",
     "text": [
      "States: [[0]]\n",
      "[[1. 0. 0.]]\n",
      "\n",
      "States: [[1]]\n",
      "[[ 0.  1. -0.]]\n",
      "\n",
      "States: [[2]]\n",
      "[[ 0. -0.  1.]]\n",
      "\n",
      "States: [[0], [1]]\n",
      "[[ 1. -0. -0.]\n",
      " [ 0.  1. -0.]]\n",
      "\n",
      "States: [[0], [2]]\n",
      "[[ 1.  0. -0.]\n",
      " [ 0.  0.  1.]]\n",
      "\n",
      "States: [[1], [2]]\n",
      "[[ 0.  1. -0.]\n",
      " [-0.  0.  1.]]\n",
      "\n",
      "States: [[0], [1], [2]]\n",
      "[[ 1. -0. -0.]\n",
      " [-0.  1.  0.]\n",
      " [ 0. -0.  1.]]\n",
      "\n"
     ]
    }
   ],
   "source": [
    "for e in state_iter_data:\n",
    "    print('States:', e['states'])\n",
    "    print(np.round(e['ejo_iter'][-1], 3))\n",
    "    print()"
   ]
  },
  {
   "cell_type": "markdown",
   "id": "47cd09a2-9dee-4048-91f4-47d6c6be1403",
   "metadata": {},
   "source": [
    "### Set line colors for plot"
   ]
  },
  {
   "cell_type": "code",
   "execution_count": 15,
   "id": "27b2ab66-6185-48c2-9f55-e1d6e57e2106",
   "metadata": {},
   "outputs": [
    {
     "data": {
      "image/png": "[encoded data removed]",
      "text/html": [
       "<div style=\"vertical-align: middle;\"><strong>from_list</strong> </div><div class=\"cmap\"><img alt=\"from_list colormap\" title=\"from_list\" style=\"border: 1px solid #555;\" src=\"data:image/png;base64,iVBORw0KGgoAAAANSUhEUgAAAgAAAABACAYAAABsv8+/AAAAGHRFWHRUaXRsZQBmcm9tX2xpc3QgY29sb3JtYXBDL89FAAAAHnRFWHREZXNjcmlwdGlvbgBmcm9tX2xpc3QgY29sb3JtYXABtCnOAAAAMHRFWHRBdXRob3IATWF0cGxvdGxpYiB2My41LjEsIGh0dHBzOi8vbWF0cGxvdGxpYi5vcmf3t87PAAAAMnRFWHRTb2Z0d2FyZQBNYXRwbG90bGliIHYzLjUuMSwgaHR0cHM6Ly9tYXRwbG90bGliLm9yZ9kRUegAAAFfSURBVHic7daxEQFRAEXRpQLNCNQhlutDqgBFiDQhUM1qgA7I/DX3nApe8mbuaprm18RH+9dt9ITFux4Poycs3nbnat887s/RE/7CfDmNnrBom9V59IS/sB49AAD4PQEAAEECAACCBAAABAkAAAgSAAAQJAAAIEgAAECQAACAIAEAAEECAACCBAAABAkAAAgSAAAQJAAAIEgAAECQAACAIAEAAEECAACCBAAABAkAAAgSAAAQJAAAIEgAAECQAACAIAEAAEECAACCBAAABAkAAAgSAAAQJAAAIEgAAECQAACAIAEAAEECAACCBAAABAkAAAgSAAAQJAAAIEgAAECQAACAIAEAAEECAACCBAAABAkAAAgSAAAQJAAAIEgAAECQAACAIAEAAEECAACCBAAABAkAAAgSAAAQJAAAIEgAAECQAACAIAEAAEECAACCBAAABAkAAAgSAAAQJAAAIOgNiNoMf4Q8/G4AAAAASUVORK5CYII=\"></div><div style=\"vertical-align: middle; max-width: 514px; display: flex; justify-content: space-between;\"><div style=\"float: left;\"><div title=\"#0000f1ff\" style=\"display: inline-block; width: 1em; height: 1em; margin: 0; vertical-align: middle; border: 1px solid #555; background-color: #0000f1ff;\"></div> under</div><div style=\"margin: 0 auto; display: inline-block;\">bad <div title=\"#00000000\" style=\"display: inline-block; width: 1em; height: 1em; margin: 0; vertical-align: middle; border: 1px solid #555; background-color: #00000000;\"></div></div><div style=\"float: right;\">over <div title=\"#000000ff\" style=\"display: inline-block; width: 1em; height: 1em; margin: 0; vertical-align: middle; border: 1px solid #555; background-color: #000000ff;\"></div></div>"
      ],
      "text/plain": [
       "<matplotlib.colors.ListedColormap at 0x2097c9cf0a0>"
      ]
     },
     "execution_count": 15,
     "metadata": {},
     "output_type": "execute_result"
    }
   ],
   "source": [
    "from matplotlib.colors import ListedColormap\n",
    "\n",
    "crange = 0.8\n",
    "cmap = cm.get_cmap('jet')\n",
    "cmap_state = cmap(np.linspace(0.1, crange, n_state))[:,-0:n_state]\n",
    "\n",
    "comb_states = states_of_interest[n_state:]\n",
    "cmap_state_comb = []\n",
    "for c in comb_states:\n",
    "    csub = cmap_state[c, :]\n",
    "    cnew = np.sum(csub, axis=0)\n",
    "    cnew = cnew / csub.shape[0]\n",
    "    cnew = cnew / np.max(cnew)\n",
    "    cmap_state_comb.append(cnew)\n",
    "    \n",
    "cmap_state_comb = np.vstack(cmap_state_comb)\n",
    "cmap_all = np.vstack((cmap_state, cmap_state_comb))\n",
    "cmap_all[-1] = np.array([0, 0, 0])\n",
    "\n",
    "ListedColormap(cmap_all)"
   ]
  },
  {
   "cell_type": "markdown",
   "id": "3fe3b7d7-27c7-4ea3-9273-ab7c9d5eb652",
   "metadata": {},
   "source": [
    "### Plot"
   ]
  },
  {
   "cell_type": "code",
   "execution_count": 16,
   "id": "142dae92-eb09-491d-a68d-de1a5a61cf0a",
   "metadata": {},
   "outputs": [
    {
     "data": {
      "image/png": "[encoded data removed]",
      "text/plain": [
       "<Figure size 350x350 with 4 Axes>"
      ]
     },
     "metadata": {
      "needs_background": "light"
     },
     "output_type": "display_data"
    }
   ],
   "source": [
    "fig, ax = plt.subplot_mosaic(\"AA;BC;BD\", figsize=(3.5, 3.5), dpi=100)\n",
    "\n",
    "color_y = ('black', 'gray', 'silver')\n",
    "for p in range(nominal_state['y'].shape[1]):\n",
    "    ax['A'].plot(nominal_state['t'], nominal_state['x'][:,p], color=color_y[p], label=p)\n",
    "    \n",
    "ax['A'].legend(loc='upper right', title='states', fontsize=8, bbox_to_anchor=(1.4, 1.05))\n",
    "\n",
    "ax['A'].tick_params(axis='both', which='major', labelsize=8)\n",
    "ax['A'].tick_params(axis='both', which='minor', labelsize=8)\n",
    "ax['A'].set_ylabel('State value', fontsize=8)\n",
    "ax['A'].set_xlabel('Time (s)', fontsize=8)\n",
    "ax['A'].set_xticks(np.arange(0, 10.01, 1))\n",
    "\n",
    "ax['A'].set_ylim([-1, 1])\n",
    "ax['A'].xaxis.tick_top()\n",
    "ax['A'].xaxis.set_label_position('top')\n",
    "ax['A'].spines[['bottom', 'right']].set_visible(False)\n",
    "\n",
    "for side in ['top','bottom','left','right']:\n",
    "    ax['A'].spines[side].set_linewidth(1.25)\n",
    "\n",
    "box = ax['A'].get_position()\n",
    "box.y0 = box.y0 + 0.04\n",
    "ax['A'].set_position(box)\n",
    "\n",
    "ax['B'].spines[['top', 'right']].set_visible(False)\n",
    "\n",
    "ax['B'].matshow(Oe, aspect='auto')\n",
    "\n",
    "for n, S in enumerate(state_iter_data):\n",
    "    if n < n_state:\n",
    "        axn = 'C'\n",
    "    else:\n",
    "        axn = 'D'\n",
    "        \n",
    "    ax[axn].plot(np.array(S['iteration_index']), np.array(S['CN_total']), '-',\n",
    "                 label=str(S['states']),\n",
    "                 color=cmap_all[S['comb'],:],\n",
    "                 lw=2)\n",
    "    \n",
    "    if (n == (n_state-1)) or (n == (len(state_iter_data)-1)):\n",
    "        ax[axn].plot([1, 100], [CN_Wa, CN_Wa], '--', color='gray', label='gramian', zorder=1)\n",
    "    \n",
    "\n",
    "ax['C'].set_ylabel('Condition number', fontsize=8)\n",
    "ax['D'].set_xlabel('Iteration', fontsize=8)\n",
    "\n",
    "ax['C'].tick_params(labelbottom=False)    \n",
    "ax['B'].tick_params(labelbottom=False, labelleft=False)\n",
    "\n",
    "# ax['A'].subplots_adjust(wspace=0.04, hspace=0.1)\n",
    "\n",
    "for a in [ax['C'], ax['D']]:\n",
    "    a.legend(loc='upper right', fontsize=8, bbox_to_anchor=(2.4, 1.05))\n",
    "    \n",
    "    a.set_xlim([0.9, 100])\n",
    "    a.set_ylim([0.5, 1000])\n",
    "    a.set_yticks([1, 10, 100, 1000, 10000])\n",
    "    a.yaxis.tick_right()\n",
    "    a.yaxis.set_label_position('right')\n",
    "    a.set_yscale('log')\n",
    "    a.set_xscale('log')\n",
    "    # a.grid()\n",
    "    \n",
    "    a.tick_params(axis='both', which='major', labelsize=8)\n",
    "    a.tick_params(axis='both', which='minor', labelsize=8)\n",
    "    \n",
    "    a.spines[['left', 'top']].set_visible(False)\n",
    "    \n",
    "    for side in ['top','bottom','left','right']:\n",
    "        a.spines[side].set_linewidth(1.25)\n",
    "\n",
    "ax['C'].set_yticks([1, 10, 100, 1000, 10000])\n",
    "ax['D'].set_yticks([1, 10, 100, 1000, 10000])\n",
    "\n",
    "figpath = os.path.join(figdir, r'figure_1.pdf')\n",
    "plt.savefig(figpath, bbox_inches='tight')"
   ]
  },
  {
   "cell_type": "markdown",
   "id": "6739248a-75db-4ae4-9387-9c9fd6de201f",
   "metadata": {},
   "source": [
    "### Make example matrix"
   ]
  },
  {
   "cell_type": "code",
   "execution_count": 17,
   "id": "595d189e-8e07-4242-a83f-b13d78725cbf",
   "metadata": {},
   "outputs": [
    {
     "name": "stdout",
     "output_type": "stream",
     "text": [
      "rows: [0]\n",
      "subset:\n",
      "     0    1    2\n",
      "0  1.0  0.0  0.0\n",
      "\n",
      "state recon: [[1. 0. 0.]]\n",
      "------------------------------------------------------\n",
      "\n",
      "rows: [  1  37 106]\n",
      "subset:\n",
      "       0     1      2\n",
      "0  1.000  1.00  1.000\n",
      "1 -0.724  1.18  1.199\n",
      "2  0.188 -0.45 -0.030\n",
      "\n",
      "state recon: [[1. 0. 0.]]\n",
      "------------------------------------------------------\n",
      "\n",
      "rows: [  3  40 103]\n",
      "subset:\n",
      "       0      1      2\n",
      "0  0.990  0.100  0.005\n",
      "1 -0.833  1.102  1.194\n",
      "2  0.098 -0.465  0.015\n",
      "\n",
      "state recon: [[1. 0. 0.]]\n",
      "------------------------------------------------------\n",
      "\n"
     ]
    }
   ],
   "source": [
    "s = 0 # 1st state\n",
    "I = [0, 1, 2] # first three iterations\n",
    "for i in I:\n",
    "    print('rows:', state_iter_data[s]['row_iter'][i])\n",
    "\n",
    "    Oe_iter_norm = state_iter_data[s]['O_subset_iter'][i]\n",
    "    # Oe_iter_norm = Oe_iter_norm / np.max(Oe_iter_norm)\n",
    "    Oe_iter_norm = Oe_iter_norm / Oe[0, 0]\n",
    "\n",
    "    print('subset:')\n",
    "    print(pd.DataFrame(np.round(Oe_iter_norm, 3)))\n",
    "    print('')\n",
    "    print('state recon:', np.round(state_iter_data[s]['ejo_iter'][-1], 3))\n",
    "    print('------------------------------------------------------')\n",
    "    print('')"
   ]
  },
  {
   "cell_type": "markdown",
   "id": "e71786ac-835c-41ff-8570-f0de8f393f0f",
   "metadata": {},
   "source": [
    "\\begin{bmatrix}\n",
    "    v_{1} \\\\\n",
    "    v_{2} \\\\\n",
    "    v_{3} \\\\\n",
    "    v_{4} \\\\\n",
    "   \\vdots \\\\\n",
    "    v_{38} \\\\\n",
    "    \\vdots \\\\\n",
    "    v_{41} \\\\\n",
    "    \\vdots \\\\\n",
    "    v_{104} \\\\\n",
    "    \\vdots \\\\\n",
    "    v_{107} \\\\\n",
    "    \\vdots \\\\\n",
    "    v_{pw}\n",
    "\\end{bmatrix}\n",
    "\n",
    "\\begin{bmatrix}\n",
    "    1.00 &    0.00 &    0.00   \\\\\n",
    "    1.00 &    1.00 &    1.00   \\\\\n",
    "    0.00 &    1.00 &    1.00   \\\\\n",
    "    0.99 &    0.10 &    0.005   \\\\\n",
    "          &     \\vdots &       \\\\\n",
    "    -0.724 &       1.18 &  1.20 \\\\\n",
    "          &     \\vdots &       \\\\\n",
    "    -0.833 &       1.10 &  1.19 \\\\\n",
    "          &     \\vdots &       \\\\\n",
    "    0.098 &   -0.450 &  -0.015 \\\\\n",
    "        &       \\vdots &       \\\\\n",
    "    0.188 &   -0.465 &  -0.030 \\\\\n",
    "        &       \\vdots &       \\\\\n",
    "     -0.011 &   0.079 &  0.027 \\\\\n",
    "\\end{bmatrix}"
   ]
  },
  {
   "cell_type": "code",
   "execution_count": null,
   "id": "c67784b1-d76e-4edf-8764-c38fd8714411",
   "metadata": {},
   "outputs": [],
   "source": []
  }
 ],
 "metadata": {
  "kernelspec": {
   "display_name": "Python 3 (ipykernel)",
   "language": "python",
   "name": "python3"
  },
  "language_info": {
   "codemirror_mode": {
    "name": "ipython",
    "version": 3
   },
   "file_extension": ".py",
   "mimetype": "text/x-python",
   "name": "python",
   "nbconvert_exporter": "python",
   "pygments_lexer": "ipython3",
   "version": "3.9.12"
  }
 },
 "nbformat": 4,
 "nbformat_minor": 5
}
